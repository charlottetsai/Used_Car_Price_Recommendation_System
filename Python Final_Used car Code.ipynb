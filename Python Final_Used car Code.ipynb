{
 "cells": [
  {
   "cell_type": "markdown",
   "metadata": {},
   "source": [
    "# Loading Data"
   ]
  },
  {
   "cell_type": "code",
   "execution_count": null,
   "metadata": {},
   "outputs": [],
   "source": [
    "# Import library\n",
    "from IPython.display import display\n",
    "import pandas as pd\n",
    "import numpy as np\n",
    "import matplotlib.pyplot as plt\n",
    "import seaborn as sns"
   ]
  },
  {
   "cell_type": "code",
   "execution_count": null,
   "metadata": {},
   "outputs": [],
   "source": [
    "#select columns that we need \n",
    "df_all = pd.read_csv('vehicles.csv',encoding='utf-8')"
   ]
  },
  {
   "cell_type": "code",
   "execution_count": null,
   "metadata": {},
   "outputs": [],
   "source": [
    "df_all.shape\n",
    "#we have 458,213 observations and 18 varialbes"
   ]
  },
  {
   "cell_type": "code",
   "execution_count": null,
   "metadata": {},
   "outputs": [],
   "source": [
    "#view columns names\n",
    "df_all.columns"
   ]
  },
  {
   "cell_type": "code",
   "execution_count": null,
   "metadata": {},
   "outputs": [],
   "source": [
    "df_all.head()"
   ]
  },
  {
   "cell_type": "code",
   "execution_count": null,
   "metadata": {},
   "outputs": [],
   "source": [
    "#select columns that we need \n",
    "\n",
    "df = pd.read_csv('vehicles.csv', \n",
    "                 usecols=[5,6,7,8,9,10,11,12,13,14,15,16,17,18,19,22,23,24],\n",
    "                 encoding='utf-8',\n",
    "                 dtype={ \n",
    "                        5:float, \n",
    "                        6:float, \n",
    "                        7:object, \n",
    "                        8:object, \n",
    "                        9:object, \n",
    "                        10:object, \n",
    "                        11:object, \n",
    "                        12:float, \n",
    "                        13:object,\n",
    "                        15:object, \n",
    "                        16:object, \n",
    "                        17:object,\n",
    "                        18:object, \n",
    "                        22:object,\n",
    "                        23:float,\n",
    "                        24:float,\n",
    "                        })\n",
    "\n",
    "#price, year, manufacturer, model, condition, cylinders, fuel, odometer, title_status, transmission, VIN, drive, size, type\n",
    "#paint_color and state"
   ]
  },
  {
   "cell_type": "code",
   "execution_count": null,
   "metadata": {},
   "outputs": [],
   "source": [
    "df.columns"
   ]
  },
  {
   "cell_type": "code",
   "execution_count": null,
   "metadata": {},
   "outputs": [],
   "source": [
    "df.head()"
   ]
  },
  {
   "cell_type": "code",
   "execution_count": null,
   "metadata": {},
   "outputs": [],
   "source": [
    "# Filling missing data"
   ]
  },
  {
   "cell_type": "code",
   "execution_count": null,
   "metadata": {},
   "outputs": [],
   "source": [
    "#view table first 3 rows\n",
    "df.head()"
   ]
  },
  {
   "cell_type": "code",
   "execution_count": null,
   "metadata": {},
   "outputs": [],
   "source": [
    "#view total number of na columns \n",
    "df.isna().sum()"
   ]
  },
  {
   "cell_type": "code",
   "execution_count": null,
   "metadata": {},
   "outputs": [],
   "source": [
    "# missing value in year. we input mean of the 'year' to the columns\n",
    "# replace missing data in year and odometer with rounded Mean\n",
    "# using fillna() funtion\n",
    "df['year'].fillna(round(df['year'].mean(), 0), inplace=True)\n",
    "df['year'] = df['year'].astype(int)"
   ]
  },
  {
   "cell_type": "code",
   "execution_count": null,
   "metadata": {},
   "outputs": [],
   "source": [
    "# replace missing data in odometer with rounded Mean\n",
    "df['odometer'].fillna(round(df['odometer'].mean(), 0), inplace=True)\n",
    "df['odometer'] = df['odometer'].astype(int)"
   ]
  },
  {
   "cell_type": "markdown",
   "metadata": {},
   "source": [
    "# EDA"
   ]
  },
  {
   "cell_type": "markdown",
   "metadata": {},
   "source": [
    "# Car Color Analysis"
   ]
  },
  {
   "cell_type": "code",
   "execution_count": null,
   "metadata": {},
   "outputs": [],
   "source": [
    "df['paint_color'].value_counts()"
   ]
  },
  {
   "cell_type": "code",
   "execution_count": null,
   "metadata": {},
   "outputs": [],
   "source": [
    "df.paint_color.value_counts().nlargest(10).plot(kind='bar', figsize=(10,5))\n",
    "plt.title(\"Number of Cars by Paint Color\", fontweight=\"bold\")\n",
    "plt.ylabel('Number of Cars', fontweight=\"bold\")\n",
    "plt.xlabel('Paint Color', fontweight=\"bold\");"
   ]
  },
  {
   "cell_type": "code",
   "execution_count": null,
   "metadata": {},
   "outputs": [],
   "source": [
    "#Group paint_color\n",
    "regrouped_color_df = df\n",
    "regrouped_color_df['paint_color'] = regrouped_color_df['paint_color'].replace({'custom':'others','green':'others',\n",
    "                                                                               'brown':'others','yellow':'others','orange':'others','purple':'others'})"
   ]
  },
  {
   "cell_type": "code",
   "execution_count": null,
   "metadata": {},
   "outputs": [],
   "source": [
    "df.paint_color.value_counts().nlargest(10).plot(kind='bar', figsize=(10,5))\n",
    "plt.title(\"Number of Cars by Paint Color\", fontweight=\"bold\")\n",
    "plt.ylabel('Number of Cars', fontweight=\"bold\")\n",
    "plt.xlabel('Paint Color', fontweight=\"bold\");"
   ]
  },
  {
   "cell_type": "code",
   "execution_count": null,
   "metadata": {},
   "outputs": [],
   "source": [
    "df['paint_color'].value_counts()"
   ]
  },
  {
   "cell_type": "code",
   "execution_count": null,
   "metadata": {},
   "outputs": [],
   "source": [
    "df.paint_color.value_counts().nlargest(10).plot(kind='bar', figsize=(10,5))\n",
    "plt.title(\"Number of Cars by Paint Color\", fontweight=\"bold\")\n",
    "plt.ylabel('Number of Cars', fontweight=\"bold\")\n",
    "plt.xlabel('Paint Color', fontweight=\"bold\");"
   ]
  },
  {
   "cell_type": "code",
   "execution_count": null,
   "metadata": {},
   "outputs": [],
   "source": [
    "regrouped_color_df['paint_color'].value_counts()"
   ]
  },
  {
   "cell_type": "code",
   "execution_count": null,
   "metadata": {},
   "outputs": [],
   "source": [
    "# Piechart: paint_color\n",
    "df_color = df.groupby('paint_color').size().reset_index(name='counts')\n",
    "df_color.head()\n",
    "fig, ax = plt.subplots(figsize=(12, 7), subplot_kw=dict(aspect=\"equal\"), dpi= 80)\n",
    "data = df_color['counts']\n",
    "categories = df_color ['paint_color']\n",
    "explode = [0.1,0,0.1,0,0.1,0,0.1]\n",
    "\n",
    "\n",
    "def func(pct, allvals):\n",
    "    absolute = int(pct/100.*np.sum(allvals))\n",
    "    return \"{:.1f}% ({:d} )\".format(pct, absolute)\n",
    "wedges, texts, autotexts = ax.pie(data,\n",
    "                                  autopct=lambda pct: func(pct, data),\n",
    "                                  textprops=dict(color=\"w\"),\n",
    "                                  colors=plt.cm.Dark2.colors,\n",
    "                                 startangle=140,\n",
    "                                 explode=explode)\n",
    "ax.legend(wedges, categories, title=\"Car Color\", loc=\"center left\", bbox_to_anchor=(1, 0, 0.5, 1))\n",
    "plt.setp(autotexts, size=10, weight=700)\n",
    "ax.set_title(\"Percentage of Car Paint Color\", fontweight=\"bold\")\n",
    "plt.show()"
   ]
  },
  {
   "cell_type": "code",
   "execution_count": null,
   "metadata": {},
   "outputs": [],
   "source": [
    "df_color_mean = df.groupby('paint_color').mean()['price'].to_frame('Price').reset_index()\n",
    "df_color_mean.set_index('paint_color', inplace=True)\n",
    "display(df_color_mean)"
   ]
  },
  {
   "cell_type": "code",
   "execution_count": null,
   "metadata": {},
   "outputs": [],
   "source": [
    "df_color_mean.nlargest(10, 'Price').plot(kind='bar', figsize=(10,5))\n",
    "plt.title(\"Average Pirce of Car by Paint Color\", fontweight=\"bold\")\n",
    "plt.ylabel('Average Pirce', fontweight=\"bold\")\n",
    "plt.xlabel('Paint Color', fontweight=\"bold\");"
   ]
  },
  {
   "cell_type": "code",
   "execution_count": null,
   "metadata": {},
   "outputs": [],
   "source": [
    "df.describe()\n",
    "df_price = pd.DataFrame(df['price'])\n",
    "f,ax=plt.subplots(figsize=(3,3))\n",
    "sns.boxplot(data=df_price,ax=ax)\n",
    "plt.show()"
   ]
  },
  {
   "cell_type": "code",
   "execution_count": null,
   "metadata": {},
   "outputs": [],
   "source": [
    "df_color_price=df.copy(deep=True)\n",
    "Percentile = np.percentile(df_color_price['price'],[0,25,50,75,100])\n",
    "IQR = Percentile[3] - Percentile[1]\n",
    "price_upper_limit = Percentile[3] + IQR * 1.5\n",
    "price_lower_limit = Percentile[1] - IQR * 1.5\n",
    "print('upperlimit={}；lowerlimit={}'.format((price_upper_limit),(price_lower_limit)))\n",
    "df_color_price = df_color_price[df_color_price['price'] < price_upper_limit]\n",
    "df_color_price = df_color_price[df_color_price['price'] > price_lower_limit]"
   ]
  },
  {
   "cell_type": "code",
   "execution_count": null,
   "metadata": {},
   "outputs": [],
   "source": [
    "#df_color_mean = df_color_price.groupby('paint_color').mean()['price']\n",
    "#print(df_color_mean)\n",
    "df_color_mean = df_color_price.groupby('paint_color').mean()['price'].to_frame('Price').reset_index()\n",
    "df_color_mean.set_index('paint_color', inplace=True)\n",
    "display(df_color_mean)"
   ]
  },
  {
   "cell_type": "code",
   "execution_count": null,
   "metadata": {},
   "outputs": [],
   "source": [
    "df_color_mean.nlargest(10, 'Price').plot(kind='bar', figsize=(10,5))\n",
    "plt.title(\"Average pirce of car by Paint color\", fontweight=\"bold\")\n",
    "plt.ylabel('Average pirce', fontweight=\"bold\")\n",
    "plt.xlabel('Paint Color', fontweight=\"bold\");"
   ]
  },
  {
   "cell_type": "code",
   "execution_count": null,
   "metadata": {},
   "outputs": [],
   "source": [
    "df_color_price['paint_color'].value_counts()"
   ]
  },
  {
   "cell_type": "markdown",
   "metadata": {},
   "source": [
    "# Car Type Analysis"
   ]
  },
  {
   "cell_type": "code",
   "execution_count": null,
   "metadata": {},
   "outputs": [],
   "source": [
    "df['type'].value_counts()"
   ]
  },
  {
   "cell_type": "code",
   "execution_count": null,
   "metadata": {},
   "outputs": [],
   "source": [
    "df['type'].value_counts().nlargest(10).plot(kind='bar', figsize=(10,5))\n",
    "plt.title(\"Number of Cars by Car Type\", fontweight=\"bold\")\n",
    "plt.ylabel('Number of Cars', fontweight=\"bold\")\n",
    "plt.xlabel('Car Type', fontweight=\"bold\")"
   ]
  },
  {
   "cell_type": "code",
   "execution_count": null,
   "metadata": {},
   "outputs": [],
   "source": [
    "#Group the type\n",
    "df['type'] = df['type'].replace({'offroad':'other',\n",
    "                                 'bus':'other','mini-van':'other','convertible':'other','van':'other'})"
   ]
  },
  {
   "cell_type": "code",
   "execution_count": null,
   "metadata": {},
   "outputs": [],
   "source": [
    "df['type'].value_counts().nlargest(10).plot(kind='bar', figsize=(10,5))"
   ]
  },
  {
   "cell_type": "code",
   "execution_count": null,
   "metadata": {},
   "outputs": [],
   "source": [
    "# Piechart: Type\n",
    "df_color = df.groupby('type').size().reset_index(name='counts')\n",
    "fig, ax = plt.subplots(figsize=(12, 7), subplot_kw=dict(aspect=\"equal\"), dpi= 80)\n",
    "data = df_color['counts']\n",
    "categories = df_color ['type']\n",
    "explode = [0.1,0,0.1,0,0.1,0,0.1,0]\n",
    "\n",
    "\n",
    "def func(pct, allvals):\n",
    "    absolute = int(pct/100.*np.sum(allvals))\n",
    "    return \"{:.1f}% ({:d} )\".format(pct, absolute)\n",
    "wedges, texts, autotexts = ax.pie(data,\n",
    "                                  autopct=lambda pct: func(pct, data),\n",
    "                                  textprops=dict(color=\"w\"),\n",
    "                                  colors=plt.cm.Dark2.colors,\n",
    "                                 startangle=120,\n",
    "                                 explode=explode)\n",
    "ax.legend(wedges, categories, title=\"Car Type\", loc=\"center left\", bbox_to_anchor=(1, 0, 0.5, 1))\n",
    "plt.setp(autotexts, size=9, weight=700)\n",
    "ax.set_title(\"Percentage of Car Type\", fontweight=\"bold\")\n",
    "plt.show()"
   ]
  },
  {
   "cell_type": "code",
   "execution_count": null,
   "metadata": {},
   "outputs": [],
   "source": [
    "car_type_mean_df = df.groupby('type').mean()['price']\n",
    "print(car_type_mean_df)"
   ]
  },
  {
   "cell_type": "code",
   "execution_count": null,
   "metadata": {},
   "outputs": [],
   "source": [
    "car_type_mean_df.nlargest(10).plot(kind='bar', figsize=(10,5))\n",
    "plt.title(\"Average pirce of car by car type\", fontweight=\"bold\")\n",
    "plt.ylabel('Average pirce', fontweight=\"bold\")\n",
    "plt.xlabel('Car Type', fontweight=\"bold\");"
   ]
  },
  {
   "cell_type": "code",
   "execution_count": null,
   "metadata": {},
   "outputs": [],
   "source": [
    "car_type_price_df=df.copy(deep=True)\n",
    "Percentile = np.percentile(car_type_price_df['price'],[0,25,50,75,100])\n",
    "IQR = Percentile[3] - Percentile[1]\n",
    "price_upper_limit = Percentile[3] + IQR * 1.5\n",
    "price_lower_limit = Percentile[1] - IQR * 1.5\n",
    "print('upperlimit={}；lowerlimit={}'.format((price_upper_limit),(price_lower_limit)))\n",
    "car_type_price_df = car_type_price_df[car_type_price_df['price'] < price_upper_limit]\n",
    "car_type_price_df = car_type_price_df[car_type_price_df['price'] > price_lower_limit]"
   ]
  },
  {
   "cell_type": "code",
   "execution_count": null,
   "metadata": {},
   "outputs": [],
   "source": [
    "car_type_mean_df = car_type_price_df.groupby('type').mean()['price']\n",
    "print(car_type_mean_df)"
   ]
  },
  {
   "cell_type": "code",
   "execution_count": null,
   "metadata": {},
   "outputs": [],
   "source": [
    "car_type_mean_df.nlargest(10).plot(kind='bar', figsize=(10,5))\n",
    "plt.title(\"Average Pirce of Car By Car Type\", fontweight=\"bold\")\n",
    "plt.ylabel('Average Pirce', fontweight=\"bold\")\n",
    "plt.xlabel('Car Type', fontweight=\"bold\");"
   ]
  },
  {
   "cell_type": "markdown",
   "metadata": {},
   "source": [
    "# Car Cylinders Analysis"
   ]
  },
  {
   "cell_type": "code",
   "execution_count": null,
   "metadata": {},
   "outputs": [],
   "source": [
    "df['cylinders'].value_counts()"
   ]
  },
  {
   "cell_type": "code",
   "execution_count": null,
   "metadata": {},
   "outputs": [],
   "source": [
    "df['cylinders'].value_counts()"
   ]
  },
  {
   "cell_type": "code",
   "execution_count": null,
   "metadata": {},
   "outputs": [],
   "source": [
    "df.cylinders.value_counts().nlargest(10).plot(kind='bar', figsize=(10,5))\n",
    "plt.title(\"Number of Cars by Cylinder Type\", fontweight=\"bold\")\n",
    "plt.ylabel('Number of Cars', fontweight=\"bold\")\n",
    "plt.xlabel('Cylinder', fontweight=\"bold\");"
   ]
  },
  {
   "cell_type": "code",
   "execution_count": null,
   "metadata": {},
   "outputs": [],
   "source": [
    "# Piechart: cylinder\n",
    "car_cylinder_df = df.groupby('cylinders').size().reset_index(name='counts')\n",
    "fig, ax = plt.subplots(figsize=(12, 7), subplot_kw=dict(aspect=\"equal\"), dpi= 80)\n",
    "data = df_color['counts']\n",
    "categories = car_cylinder_df['cylinders']\n",
    "explode = [0.1,0,0.1,0,0.1,0,0.1,0]\n",
    "\n",
    "\n",
    "def func(pct, allvals):\n",
    "    absolute = int(pct/100.*np.sum(allvals))\n",
    "    return \"{:.1f}% ({:d} )\".format(pct, absolute)\n",
    "wedges, texts, autotexts = ax.pie(data,\n",
    "                                  autopct=lambda pct: func(pct, data),\n",
    "                                  textprops=dict(color=\"w\"),\n",
    "                                  colors=plt.cm.Dark2.colors,\n",
    "                                 startangle=140,\n",
    "                                 explode=explode)\n",
    "ax.legend(wedges, categories, title=\"Car Cylinder\", loc=\"center left\", bbox_to_anchor=(1, 0, 0.5, 1))\n",
    "plt.setp(autotexts, size=10, weight=700)\n",
    "ax.set_title(\"Percentage of Car Cylinder Type\", fontweight=\"bold\")\n",
    "plt.show()"
   ]
  },
  {
   "cell_type": "code",
   "execution_count": null,
   "metadata": {},
   "outputs": [],
   "source": [
    "price_mean_groupby_cylinder_df = df.groupby('cylinders').mean()['price'].to_frame('Price').reset_index()\n",
    "price_mean_groupby_cylinder_df.set_index('cylinders', inplace=True)\n",
    "display(price_mean_groupby_cylinder_df)"
   ]
  },
  {
   "cell_type": "code",
   "execution_count": null,
   "metadata": {},
   "outputs": [],
   "source": [
    "price_mean_groupby_cylinder_df.nlargest(10, 'Price').plot(kind='bar', figsize=(10,5))\n",
    "plt.title(\"Average Pirce of Car by Car Cylinder\", fontweight=\"bold\")\n",
    "plt.ylabel('Average Pirce', fontweight=\"bold\")\n",
    "plt.xlabel('Car Cylinder', fontweight=\"bold\");"
   ]
  },
  {
   "cell_type": "code",
   "execution_count": null,
   "metadata": {},
   "outputs": [],
   "source": [
    "cylinder_price_df=df.copy(deep=True)\n",
    "Percentile = np.percentile(cylinder_price_df['price'],[0,25,50,75,100])\n",
    "IQR = Percentile[3] - Percentile[1]\n",
    "price_upper_limit = Percentile[3] + IQR * 1.5\n",
    "price_lower_limit = Percentile[1] - IQR * 1.5\n",
    "print('upperlimit={}；lowerlimit={}'.format((price_upper_limit),(price_lower_limit)))\n",
    "cylinder_price_df = cylinder_price_df[cylinder_price_df['price'] < price_upper_limit]\n",
    "cylinder_price_df = cylinder_price_df[cylinder_price_df['price'] > price_lower_limit]"
   ]
  },
  {
   "cell_type": "code",
   "execution_count": null,
   "metadata": {},
   "outputs": [],
   "source": [
    "car_cylinder_mean_df = cylinder_price_df.groupby('cylinders').mean()['price']\n",
    "print(car_cylinder_mean_df)"
   ]
  },
  {
   "cell_type": "code",
   "execution_count": null,
   "metadata": {},
   "outputs": [],
   "source": [
    "car_cylinder_mean_df.nlargest(10).plot(kind='bar', figsize=(10,5))\n",
    "plt.title(\"Average Pirce of Car By Car CylinderType\", fontweight=\"bold\")\n",
    "plt.ylabel('Average Pirce', fontweight=\"bold\")\n",
    "plt.xlabel('Car Cylinder Type', fontweight=\"bold\");"
   ]
  },
  {
   "cell_type": "markdown",
   "metadata": {},
   "source": [
    "# Year Trend"
   ]
  },
  {
   "cell_type": "markdown",
   "metadata": {},
   "source": [
    "# Number of Cars v.s. Year"
   ]
  },
  {
   "cell_type": "code",
   "execution_count": null,
   "metadata": {},
   "outputs": [],
   "source": [
    "sns.boxplot(y=df['year'])"
   ]
  },
  {
   "cell_type": "code",
   "execution_count": null,
   "metadata": {},
   "outputs": [],
   "source": [
    "car_year_target = df[df['year'] > 2000].groupby('year').size().reset_index(name='counts')\n",
    "car_year_target.head()\n",
    "car_year_target.plot(kind='bar',x='year',y='counts',color='blue')\n",
    "plt.title(\"Number of Cars v.s. Year\", fontweight=\"bold\")\n",
    "plt.ylabel('Number of Cars', fontweight=\"bold\")\n",
    "plt.xlabel('Year', fontweight=\"bold\");\n",
    "plt.show()\n",
    "#year is mostly 2010-2019"
   ]
  },
  {
   "cell_type": "markdown",
   "metadata": {},
   "source": [
    "# Average Price v.s. Year"
   ]
  },
  {
   "cell_type": "code",
   "execution_count": null,
   "metadata": {},
   "outputs": [],
   "source": [
    "df_year_price_df=df.copy(deep=True)\n",
    "Percentile = np.percentile(df_year_price_df['price'],[0,25,50,75,100])\n",
    "IQR = Percentile[3] - Percentile[1]\n",
    "price_upper_limit = Percentile[3] + IQR * 1.5\n",
    "price_lower_limit = Percentile[1] - IQR * 1.5\n",
    "print('upperlimit={}；lowerlimit={}'.format((price_upper_limit),(price_lower_limit)))\n",
    "df_year_price_df = df_year_price_df[df_year_price_df['price'] < price_upper_limit]\n",
    "df_year_price_df = df_year_price_df[df_year_price_df['price'] > price_lower_limit]\n",
    "\n",
    "car_price_year_df = df_year_price_df[df_year_price_df['year'] > 2005].groupby('year').mean()['price'].reset_index(name='avg_price')\n",
    "car_price_year_df.plot(kind='bar',x='year',y='avg_price',color='blue')\n",
    "plt.title(\"Average Price v.s. Year\", fontweight=\"bold\")\n",
    "plt.ylabel('Average Price', fontweight=\"bold\")\n",
    "plt.xlabel('Year', fontweight=\"bold\");\n",
    "plt.show()"
   ]
  },
  {
   "cell_type": "code",
   "execution_count": null,
   "metadata": {},
   "outputs": [],
   "source": [
    "#Price range for diffent years\n",
    "#sns.regplot('Year', 'Price', df_year_price_df)\n",
    "df_year_price_df_2010 = df_year_price_df[df_year_price_df['year'] > 1990]\n",
    "plt.subplots(figsize=(20,6))\n",
    "sns.boxplot(x=\"year\", y=\"price\", data= df_year_price_df_2010)"
   ]
  },
  {
   "cell_type": "markdown",
   "metadata": {},
   "source": [
    "# Number of Car v.s. Mileage"
   ]
  },
  {
   "cell_type": "code",
   "execution_count": null,
   "metadata": {},
   "outputs": [],
   "source": [
    "# Clear the outlier of mileage\n",
    "mileage_df=df.copy(deep=True)\n",
    "Percentile = np.percentile(mileage_df['odometer'],[0,25,50,75,100])\n",
    "IQR = Percentile[3] - Percentile[1]\n",
    "price_upper_limit = Percentile[3] + IQR * 1.5\n",
    "price_lower_limit = Percentile[1] - IQR * 1.5\n",
    "print('upperlimit={}；lowerlimit={}'.format((price_upper_limit),(price_lower_limit)))\n",
    "mileage_df = mileage_df[mileage_df['odometer'] < price_upper_limit]\n",
    "mileage_df = mileage_df[mileage_df['odometer'] > price_lower_limit]"
   ]
  },
  {
   "cell_type": "code",
   "execution_count": null,
   "metadata": {},
   "outputs": [],
   "source": [
    "# Clear the outlier of price(after clear the outlier of mileage)\n",
    "mileage_price_df=mileage_df.copy(deep=True)\n",
    "Percentile = np.percentile(mileage_price_df['price'],[0,25,50,75,100])\n",
    "IQR = Percentile[3] - Percentile[1]\n",
    "price_upper_limit = Percentile[3] + IQR * 1.5\n",
    "price_lower_limit = Percentile[1] - IQR * 1.5\n",
    "print('upperlimit={}；lowerlimit={}'.format((price_upper_limit),(price_lower_limit)))\n",
    "mileage_price_df = mileage_price_df[mileage_price_df['price'] < price_upper_limit]\n",
    "mileage_price_df = mileage_price_df[mileage_price_df['price'] > price_lower_limit]"
   ]
  },
  {
   "cell_type": "code",
   "execution_count": null,
   "metadata": {},
   "outputs": [],
   "source": [
    "sns.set_style('ticks')\n",
    "fig, ax = plt.subplots()\n",
    "fig.set_size_inches(30, 20)\n",
    "sns.regplot('odometer', 'price', data=mileage_price_df)"
   ]
  },
  {
   "cell_type": "markdown",
   "metadata": {},
   "source": [
    "# Others"
   ]
  },
  {
   "cell_type": "code",
   "execution_count": null,
   "metadata": {},
   "outputs": [],
   "source": [
    "# Plotting a bar chart for condition \n",
    "df.condition.value_counts().nlargest(10).plot(kind='bar', figsize=(10,5))\n",
    "plt.title(\"Number of cars by condition\")\n",
    "plt.ylabel('Number of cars')\n",
    "plt.xlabel('condition');"
   ]
  },
  {
   "cell_type": "code",
   "execution_count": null,
   "metadata": {},
   "outputs": [],
   "source": [
    "# Plotting a bar chart for condition for Title status\n",
    "df.title_status.value_counts().nlargest(10).plot(kind='bar', figsize=(10,5))\n",
    "plt.title(\"Number of cars by title status\")\n",
    "plt.ylabel('Number of cars')\n",
    "plt.xlabel('Title status');"
   ]
  },
  {
   "cell_type": "code",
   "execution_count": null,
   "metadata": {},
   "outputs": [],
   "source": []
  },
  {
   "cell_type": "markdown",
   "metadata": {},
   "source": [
    "# Setting up price recommendation system"
   ]
  },
  {
   "cell_type": "markdown",
   "metadata": {},
   "source": [
    "# Filling missing data and clear outlier"
   ]
  },
  {
   "cell_type": "code",
   "execution_count": null,
   "metadata": {},
   "outputs": [],
   "source": [
    "used_car_df = df.copy(deep=True)\n",
    "used_car_df = used_car_df[used_car_df['manufacturer'].notna()]"
   ]
  },
  {
   "cell_type": "code",
   "execution_count": null,
   "metadata": {},
   "outputs": [],
   "source": [
    "# Process Price Outliter\n",
    "Percentile = np.percentile(used_car_df['price'],[0,25,50,75,100])\n",
    "IQR = Percentile[3] - Percentile[1]\n",
    "price_upper_limit = Percentile[3] + IQR * 1.5\n",
    "price_lower_limit = Percentile[1] - IQR * 1.5\n",
    "print('upperlimit={}；lowerlimit={}'.format((price_upper_limit),(price_lower_limit)))\n",
    "used_car_df = used_car_df[used_car_df['price'] < price_upper_limit]\n",
    "used_car_df = used_car_df[used_car_df['price'] > price_lower_limit]\n",
    "used_car_df = used_car_df[used_car_df['price'] > 0]\n",
    "used_car_df['price'] = used_car_df['price'].astype(int)"
   ]
  },
  {
   "cell_type": "code",
   "execution_count": null,
   "metadata": {},
   "outputs": [],
   "source": [
    "# Clear the outlier of mileage\n",
    "Percentile = np.percentile(used_car_df['odometer'],[0,25,50,75,100])\n",
    "IQR = Percentile[3] - Percentile[1]\n",
    "odometer_upper_limit = Percentile[3] + IQR * 1.5\n",
    "odometer_lower_limit = Percentile[1] - IQR * 1.5\n",
    "print('upperlimit={}；lowerlimit={}'.format((odometer_upper_limit),(odometer_lower_limit)))\n",
    "used_car_df = used_car_df[used_car_df['odometer'] < odometer_upper_limit]\n",
    "used_car_df = used_car_df[used_car_df['odometer'] > odometer_lower_limit]\n",
    "used_car_df = used_car_df[used_car_df['odometer'] > 0]"
   ]
  },
  {
   "cell_type": "code",
   "execution_count": null,
   "metadata": {},
   "outputs": [],
   "source": [
    "used_car_df = used_car_df[used_car_df['paint_color'].notna()]\n",
    "used_car_df = used_car_df[used_car_df['model'].notna()]\n",
    "used_car_df.shape\n",
    "# End of data cleanup"
   ]
  },
  {
   "cell_type": "markdown",
   "metadata": {},
   "source": [
    "# Build Manufacture and Model Link"
   ]
  },
  {
   "cell_type": "code",
   "execution_count": null,
   "metadata": {},
   "outputs": [],
   "source": [
    "#build manufacture and model link \n",
    "\n",
    "ford_model_link = {\"f-150\": [\"f-150\", \"f150\"], \"escape\": [\"escape\"], \n",
    "                   \"explorer\": [\"explorer\"],\"mustang\": [\"mustang\"],\n",
    "                   \"fusion\": [\"fusion\"],\"focus\": [\"focus\"],\n",
    "                   \"edge\": [\"edge\"],\"f-250\": [\"f-250\"],\"f-250\": [\"f-250,f250\"],\n",
    "                   \"f-350\": [\"f-350\"],\"taurus\": [\"taurus\"],\"expedition\": [\"expedition\"],\"ranger\": [\"ranger\"]}\n",
    "chevrolet_model_link = {\"silverado 1500\": [\"silverado 1500\", \"silverado\"], \"silverado 2500\": [\"silverado 2500\"], \n",
    "                        \"silverado 3500\": [\"silverado 3500\"], \n",
    "                        \"equinox\": [\"equinox\"],\"malbu\": [\"malibu\"],\"tahoe\": [\"tahoe\"]\n",
    "                        ,\"cruze\": [\"cruze\"],\"impala\": [\"impala\"],\n",
    "                        \"traverse\": [\"traverse\"],\"camaro\": [\"camaro\"],\n",
    "                        \"suburban\": [\"suburban\"],\"corvette\": [\"corvette\"],\"corvette\": [\"corvette\"]}\n",
    "toyota_model_link = {\"camry\": [\"camry\"], \"corolla\": [\"corolla\"], \n",
    "                     \"tacoma\": [\"tacoma\"], \"prius\": [\"prius\"], \n",
    "                     \"rav4\": [\"rav4\"], \"sienna\": [\"sienna\"], \n",
    "                     \"highlander\": [\"highlander\"], \"tundra\": [\"tundra\"], \"4runner\": [\"4runner\"]}\n",
    "honda_model_link = {\"accord\": [\"accord\"], \"civic\": [\"civic\"], \n",
    "                    \"cr-v\": [\"cr-v\",\"crv\"], \"odyssey\": [\"odyssey\"], \"pilot\": [\"pilot\"]}\n",
    "nissan_model_link = {\"altima\": [\"altima\"], \"sentra\": [\"sentra\"], \n",
    "                     \"rogue\": [\"rogue\"], \"murano\": [\"murano\"], \"pathfinder\": [\"pathfinder\"]}\n",
    "jeep_model_link = {\"wrangler\": [\"wrangler\"], \" cherokee\": [\" cherokee\"],\"liberty\": [\"liberty\"]}\n",
    "ram_model_link = {\"1500\": [\"1500\"], \" 2500\": [\" 2500\"], \" 3500\": [\" 3500\"]}\n",
    "gmc_model_link = {\"sierra\": [\"sierra\"], \"acadia\": [\"acadia\"], \"yukon\": [\"yukon\"]}\n",
    "dodge_model_link = {\"caravan\":[\"caravan\"],\"charger\":[\"charger\"],\n",
    "                    \"journey\":[\"journey\"],\"challenger\":[\"chalenger\"]}\n",
    "bmw_model_link = {\"5 series\":[\"x5\",\"528i\"],\"3 series\":[\"x3\",\"325i\",\"3-series\"]}\n",
    "hyundai_model_link = {\"sonata\":[\"sonata\"],\"elantra\":[\"elantra\"]}\n",
    "mercedesbenz_model_link = {\"c-class\":[\"c\",\"cclass\"],\"e-class\":[\"e\",\"eclass\"]}\n",
    "subaru_model_link = {\"outback\":[\"outback\"],\"forester\":[\"forester\"],\"impreza\":[\"impreza\"]}\n",
    "volkswagen_model_link = {\"jetta\":[\"jetta\"],\"passat\":[\"passat\"]}\n",
    "kia_model_link = {\"soul\":[\"soul\"],\"optima\":[\"optima\"],\"sorento\":[\"sorento\"]}\n",
    "chrysler_model_link = {\"town & country\":[\"town and country\"],\"300\":[\"300\"],\"200\":[\"200\"]}\n"
   ]
  },
  {
   "cell_type": "code",
   "execution_count": null,
   "metadata": {},
   "outputs": [],
   "source": [
    "manufacture_model_link = {\"ford\": ford_model_link, \"chevrolet\": chevrolet_model_link, \n",
    "                          \"toyota\": toyota_model_link, \"honda\": honda_model_link,\n",
    "                          \"nissan\": nissan_model_link, \"jeep\": jeep_model_link,\n",
    "                          \"ram\": ram_model_link,\"gmc\": gmc_model_link, \n",
    "                          \"dodge\": dodge_model_link, \"bmw\": bmw_model_link,\n",
    "                          \"hyundai\": hyundai_model_link,\"mercedesbenz\": mercedesbenz_model_link,\n",
    "                          \"subaru\": subaru_model_link, \"volkswagen\": volkswagen_model_link,\n",
    "                          \"kia\": kia_model_link,\"chrysler\": chrysler_model_link}"
   ]
  },
  {
   "cell_type": "code",
   "execution_count": null,
   "metadata": {},
   "outputs": [],
   "source": [
    "manufacture_list = list(manufacture_model_link.keys())"
   ]
  },
  {
   "cell_type": "code",
   "execution_count": null,
   "metadata": {},
   "outputs": [],
   "source": [
    "def get_manufacture_model_list_by_manufacture_name(manufacture_name):\n",
    "    manufacture_model_dict = manufacture_model_link.get(manufacture_name)\n",
    "    return list(manufacture_model_dict.keys())"
   ]
  },
  {
   "cell_type": "markdown",
   "metadata": {},
   "source": [
    "# [External] Function of Calculation and Plot, main function"
   ]
  },
  {
   "cell_type": "markdown",
   "metadata": {},
   "source": [
    "# Analysis/Statistic Calculation/Plot Functons"
   ]
  },
  {
   "cell_type": "code",
   "execution_count": null,
   "metadata": {},
   "outputs": [],
   "source": [
    "def plot_car_count_vs_car_year_bar_chart_by_manufacturer_and_model(manufacturer_name, manufacturer_model_name, \n",
    "                                                                   dataframe_input):\n",
    "    car_year_target = dataframe_input[dataframe_input['year'] > 2000].groupby('year').size().reset_index(name='counts')\n",
    "    car_year_target.plot(kind='bar',x='year',y='counts',color='blue')\n",
    "    plt.title(\"Manufacturer:\" + str(manufacturer_name) + \n",
    "              \" - Model:\" + str(manufacturer_model_name) + \"\\n Number of Cars v.s. Year\", fontweight=\"bold\")\n",
    "    plt.ylabel('Number of Cars', fontweight=\"bold\")\n",
    "    plt.xlabel('Year', fontweight=\"bold\")\n",
    "    plt.show()"
   ]
  },
  {
   "cell_type": "code",
   "execution_count": null,
   "metadata": {},
   "outputs": [],
   "source": [
    "def plot_car_count_vs_odometer_hist_chart_by_manufacturer_and_model_and_year(manufacturer_name, \n",
    "                                                                             manufacturer_model_name, \n",
    "                                                                             year, dataframe_input):\n",
    "    plt.hist(dataframe_input.odometer, density=False, color = 'lightblue', cumulative = False, label = \"Odometer\")\n",
    "    plt.legend()\n",
    "    plt.title(\"Manufacturer:\" + str(manufacturer_name) + \n",
    "              \" - Model:\" + str(manufacturer_model_name) + \" - Year:\" + str(year) + \"\\n Number of Cars v.s. Odometer\", \n",
    "              fontweight=\"bold\")\n",
    "    plt.xlabel('Odometer Mile')\n",
    "    plt.show()"
   ]
  },
  {
   "cell_type": "code",
   "execution_count": null,
   "metadata": {},
   "outputs": [],
   "source": [
    "def plot_car_color_piechart_by_manufacturer_and_model_and_year_and_milege_range(manufacturer_name, manufacturer_model_name, \n",
    "                                                                                year, color_count, \n",
    "                                                                                dataframe_input):\n",
    "    fig, ax = plt.subplots(figsize=(12, 7), subplot_kw=dict(aspect=\"equal\"), dpi= 80)\n",
    "    data = dataframe_input['counts']\n",
    "    categories = dataframe_input['paint_color']\n",
    "    explode = [0] * color_count\n",
    "\n",
    "\n",
    "    def func(pct, allvals):\n",
    "        absolute = int(pct/100.*np.sum(allvals))\n",
    "        return \"{:.1f}% ({:d} )\".format(pct, absolute)\n",
    "    wedges, texts, autotexts = ax.pie(data,\n",
    "                                  autopct=lambda pct: func(pct, data),\n",
    "                                  textprops=dict(color=\"w\"),\n",
    "                                  colors=plt.cm.Dark2.colors,\n",
    "                                 startangle=120,\n",
    "                                 explode=explode)\n",
    "    ax.legend(wedges, categories, title=\"Car Color\", loc=\"center left\", bbox_to_anchor=(1, 0, 0.5, 1))\n",
    "    plt.setp(autotexts, size=9, weight=700)\n",
    "    plot_title = \"Manufacturer:\" + str(manufacturer_name) + \" - Model:\" + str(manufacturer_model_name) + \" - Year:\" + str(year) + \"\\n Percentage of Car Type\"\n",
    "    ax.set_title(plot_title, fontweight=\"bold\")\n",
    "    plt.show()"
   ]
  },
  {
   "cell_type": "markdown",
   "metadata": {},
   "source": [
    "# Start User Interactive Input"
   ]
  },
  {
   "cell_type": "code",
   "execution_count": null,
   "metadata": {},
   "outputs": [],
   "source": [
    "while True:\n",
    "    # ========== Step 1: manufacturer and model ========== \n",
    "    # Get the manufacturer name from user\n",
    "    print(\"Please find the manufacturer list:\")\n",
    "    print(manufacture_list)\n",
    "    manufacturer_name = input(\"Enter Manufacturer Name: \")\n",
    "    while manufacturer_name.lower() not in manufacture_list:\n",
    "        print(\"Sorry the manufacturer you entered is not on our list, please enter again\")\n",
    "        manufacturer_name = input(\"Re-Enter Manufacturer Name: \")\n",
    "    manufacturer_name = manufacturer_name.lower()\n",
    "    \n",
    "    # Get the manufacturer model name from user\n",
    "    print(\"Please find the manufacturer model list:\")\n",
    "    manufacturer_model_list = get_manufacture_model_list_by_manufacture_name(manufacturer_name)\n",
    "    print(manufacturer_model_list)\n",
    "    manufacturer_model_name = input(\"Enter Manufacturer Model Name: \")\n",
    "    while manufacturer_model_name.lower() not in manufacturer_model_list:\n",
    "        print(\"Sorry the manufacturer model you entered is not on our list, please enter again\")\n",
    "        manufacturer_model_name = input(\"Re-Enter Manufacturer Model Name: \")    \n",
    "    manufacturer_model_name = manufacturer_model_name.lower()\n",
    "    manufacturer_model_link_list = manufacture_model_link.get(manufacturer_name).get(manufacturer_model_name)\n",
    "    \n",
    "    # Filter dataset based on input manufacturer and model\n",
    "    manufacturer_df = used_car_df[used_car_df['manufacturer'] == manufacturer_name].copy(deep=True)\n",
    "    \n",
    "    manufacturer_model_df_list = []\n",
    "    for m_model in manufacturer_model_link_list:\n",
    "        manufacturer_model_df_list.append(manufacturer_df[manufacturer_df['model'].str.contains(m_model, regex=False)])\n",
    "    manufacturer_model_df = pd.concat(manufacturer_model_df_list)\n",
    "    plot_car_count_vs_car_year_bar_chart_by_manufacturer_and_model(manufacturer_name, manufacturer_model_name, manufacturer_model_df)\n",
    "    \n",
    "    # ========== Step 2: car year ========== \n",
    "    # Get the car year from user\n",
    "    car_year_from_user_input = input(\"Please Enter Car Year: \")\n",
    "    while True:\n",
    "        if not car_year_from_user_input.isdigit():\n",
    "            print(\"Sorry, please enter a valid year:\")\n",
    "            car_year_from_user_input = input(\"Re-Enter Car Year:\")\n",
    "            continue\n",
    "            \n",
    "        car_year_for_filter = int(car_year_from_user_input)\n",
    "        record_count = manufacturer_model_df[manufacturer_model_df['year'] == car_year_for_filter].shape[0]\n",
    "        # Check if record is found based on the input year from user. If not, need to ask user to re-enter\n",
    "        if record_count == 0:\n",
    "            print(\"Sorry, no record is found based on the year you entered, please enter a different year:\")\n",
    "            car_year_from_user_input = input(\"Re-Enter Car Year:\")\n",
    "        else: \n",
    "            break\n",
    "    \n",
    "    # Narrow down dataset based on car year from user\n",
    "    car_year = int(car_year_from_user_input)\n",
    "    manufacturer_model_year_df = manufacturer_model_df.copy(deep=True)\n",
    "    manufacturer_model_year_df = manufacturer_model_year_df[manufacturer_model_year_df['year'] == car_year]\n",
    "    \n",
    "    plot_car_count_vs_odometer_hist_chart_by_manufacturer_and_model_and_year(manufacturer_name, manufacturer_model_name, \n",
    "                                                                             car_year, manufacturer_model_year_df)\n",
    "    \n",
    "    # ========== Step 3: car mileage(odometer) ========== \n",
    "    # Milgeage search range\n",
    "    mileage_search_range = 2500\n",
    "\n",
    "    # Get the car mileage from user\n",
    "    car_mileage_from_user_input = input(\"Please Enter Car Mileage: \")\n",
    "    while True:\n",
    "        if not car_mileage_from_user_input.isdigit():\n",
    "            print(\"Sorry, please enter a valid year:\")    \n",
    "            car_mileage_from_user_input = input(\"Re-Enter Car Mileage:\")\n",
    "            continue\n",
    "            \n",
    "        car_mileage_for_cal = int(car_mileage_from_user_input)\n",
    "        m_upper = car_mileage_for_cal + mileage_search_range\n",
    "        m_lower = 0\n",
    "        \n",
    "        if (car_mileage_for_cal - mileage_search_range) > 0:\n",
    "            m_lower = car_mileage_for_cal - mileage_search_range\n",
    "        print(\"We are searching data for the car mileage between \" + str(m_lower) + \" ~ \" + str(m_upper))\n",
    "        record_count = len(manufacturer_model_year_df[(manufacturer_model_year_df['odometer'] <= m_upper) & (manufacturer_model_year_df['odometer'] >= m_lower)])\n",
    "        \n",
    "        # Check if record is found based on the input mileage from user. If not, need to ask user to re-enter\n",
    "        if record_count <= 0:\n",
    "            print(\"Sorry, no record is found based on the mileage you entered, please enter a target mileage:\")\n",
    "            car_mileage_from_user_input = input(\"Re-Enter Car Mileage:\")\n",
    "        else: \n",
    "            break\n",
    "    \n",
    "    # Narrow down dataset based on car mileage from user\n",
    "    car_mileage = int(car_mileage_from_user_input)\n",
    "    mileage_upper = car_mileage + mileage_search_range\n",
    "    mileage_lower = 0 \n",
    "    if (car_mileage - mileage_search_range) > 0:\n",
    "        mileage_lower = car_mileage - mileage_search_range\n",
    "    \n",
    "    # Draw Car Color Pirchar\n",
    "    manufacturer_model_year_mileage_df = manufacturer_model_year_df.copy(deep=True)\n",
    "    manufacturer_model_year_mileage_df = manufacturer_model_year_mileage_df[manufacturer_model_year_mileage_df['odometer'] <= mileage_upper]\n",
    "    manufacturer_model_year_mileage_df = manufacturer_model_year_mileage_df[manufacturer_model_year_mileage_df['odometer'] >= mileage_lower]\n",
    "    manufacturer_model_year_mileage_group_by_color_df = manufacturer_model_year_mileage_df.groupby('paint_color').size().reset_index(name='counts')\n",
    "    color_count = manufacturer_model_year_mileage_group_by_color_df.shape[0]\n",
    "    plot_car_color_piechart_by_manufacturer_and_model_and_year_and_milege_range(manufacturer_name, manufacturer_model_name, \n",
    "                                                                                car_year, color_count, \n",
    "                                                                                manufacturer_model_year_mileage_group_by_color_df)\n",
    "    \n",
    "    # ========== Step 4: car color ==========\n",
    "    car_color_list = manufacturer_model_year_mileage_group_by_color_df['paint_color'].values.tolist()\n",
    "    # Get the car color from user\n",
    "    car_color = input(\"Please Enter Car Color: \")\n",
    "    while not car_color.lower() in car_color_list:\n",
    "        print(\"Sorry, please enter a Car Color on the list:\")    \n",
    "        car_color = input(\"Re-Enter Car Color:\")\n",
    "    car_color = car_color.lower()\n",
    "    \n",
    "    # ========== Step 5: final stats from based on above breakdowns ==========\n",
    "    #Final dataframe with given manufacturer, model, year, mileage range, and car paint color\n",
    "    manufacturer_model_year_mileage_color_df = manufacturer_model_year_mileage_df.copy(deep=True)\n",
    "    manufacturer_model_year_mileage_color_df = manufacturer_model_year_mileage_color_df[manufacturer_model_year_mileage_color_df['paint_color'].str.lower() == car_color]\n",
    "    stats = manufacturer_model_year_mileage_color_df.agg({\"price\": [\"count\", \"min\", \"max\", \"median\", \"mean\", \"std\"]})\n",
    "    print(stats)\n",
    " \n",
    "    # Continue or stop\n",
    "    print(\"Do you want to stop search? Enter y/Y to exit or else to continue\")\n",
    "    should_exit = input(\"Stop or Continue: \")\n",
    "    if should_exit.lower() == 'y':\n",
    "        break\n"
   ]
  }
 ],
 "metadata": {
  "kernelspec": {
   "display_name": "Python 3",
   "language": "python",
   "name": "python3"
  },
  "language_info": {
   "codemirror_mode": {
    "name": "ipython",
    "version": 3
   },
   "file_extension": ".py",
   "mimetype": "text/x-python",
   "name": "python",
   "nbconvert_exporter": "python",
   "pygments_lexer": "ipython3",
   "version": "3.7.6"
  }
 },
 "nbformat": 4,
 "nbformat_minor": 2
}
